{
  "metadata": {
    "kernelspec": {
      "name": "python",
      "display_name": "Python (Pyodide)",
      "language": "python"
    },
    "language_info": {
      "codemirror_mode": {
        "name": "python",
        "version": 3
      },
      "file_extension": ".py",
      "mimetype": "text/x-python",
      "name": "python",
      "nbconvert_exporter": "python",
      "pygments_lexer": "ipython3",
      "version": "3.8"
    }
  },
  "nbformat_minor": 5,
  "nbformat": 4,
  "cells": [
    {
      "id": "47ac77fa-3f90-4ca7-b7e9-91eb2acf6088",
      "cell_type": "markdown",
      "source": "# MODULEDK_NOTEBOOK",
      "metadata": {}
    },
    {
      "id": "0073774f-0d4a-4e6e-9dec-60db2aec78dc",
      "cell_type": "markdown",
      "source": "Hello, this is my notebook exercise for peer review",
      "metadata": {}
    },
    {
      "id": "9e613146-63c1-4afa-9f0f-bf7562803303",
      "cell_type": "markdown",
      "source": "ex4  \nThis is a list of data science languages:\n1. R\n2. Python\n3. SQL",
      "metadata": {}
    },
    {
      "id": "e70d1a08-328d-460f-98a6-f8c751719456",
      "cell_type": "markdown",
      "source": "ex5  \nThis is a list of data science libraries:\n1. Numpy\n2. Scipy\n3. Scikit-Learn\n4. Pandas\n5. Matplotlib\n6. Seaborn",
      "metadata": {}
    },
    {
      "id": "f90b4080-4c93-4672-b112-5774ddaf39f6",
      "cell_type": "markdown",
      "source": "ex6    \nThis is a table of data science tools:\n\n| Column Number | DS Tool\n| --- | ---\n| 1 | Spark\n| 2 | Matlab\n| 3 | Jupyter\n| 4 | Knime\n| 5 | Tableau",
      "metadata": {}
    },
    {
      "id": "91b859a2-264e-46a8-b150-d2a2f7878ede",
      "cell_type": "markdown",
      "source": "ex7  \nThis is an example of arithmetic expression:  \n$$\n1 + 2 = 3\n$$",
      "metadata": {}
    },
    {
      "id": "e68552a5-5e5c-4127-8307-4c175865af53",
      "cell_type": "code",
      "source": "# ex8\n\ndef add_number(a,b):\n    return a+b\n\ndef mul_number(a,b):\n    return a*b\n\n\nprint(\"add: \", add_number(1,2))\nprint(\"multiply: \", mul_number(1,2))",
      "metadata": {
        "trusted": true
      },
      "outputs": [
        {
          "name": "stdout",
          "text": "add:  3\nmultiply:  2\n",
          "output_type": "stream"
        }
      ],
      "execution_count": 18
    },
    {
      "id": "516236ab-d022-4e6e-81f7-dfeb9023ad7a",
      "cell_type": "code",
      "source": "# ex9\n\ndef min_2_hour(min):\n    if min%60==0:\n        h = min//60\n    else:\n        h = round(min/60,5)\n        \n    return h\n\nprint(f\"60min = {min_2_hour(60)}h\")\nprint(f\"61min = {min_2_hour(61)}h\")",
      "metadata": {
        "trusted": true
      },
      "outputs": [
        {
          "name": "stdout",
          "text": "60min = 1h\n61min = 1.01667h\n",
          "output_type": "stream"
        }
      ],
      "execution_count": 33
    },
    {
      "id": "e87bc095-23a2-4916-90ff-8fa8f5504fe4",
      "cell_type": "markdown",
      "source": "ex10\n\n# Objectives\n\n## 1. Use Python for Data Science\n- Overview of Python\n- Install Python\n- Use Python for Data Science\n\n## 2. Use R for Data Science\n- Overview of R\n- Install R\n- Use R for Data Science",
      "metadata": {}
    },
    {
      "id": "b4c46d71-4b0d-452b-bced-9c23930d8b97",
      "cell_type": "markdown",
      "source": "ex11\n\n# Markdown of author name\n\n**Author:** moduledk\n",
      "metadata": {}
    },
    {
      "id": "154e3a7e-61ed-4456-8222-65b5af70478d",
      "cell_type": "code",
      "source": "",
      "metadata": {
        "trusted": true
      },
      "outputs": [],
      "execution_count": null
    }
  ]
}