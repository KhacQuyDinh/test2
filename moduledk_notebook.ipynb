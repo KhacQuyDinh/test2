{
  "metadata": {
    "kernelspec": {
      "name": "python",
      "display_name": "Python (Pyodide)",
      "language": "python"
    },
    "language_info": {
      "codemirror_mode": {
        "name": "python",
        "version": 3
      },
      "file_extension": ".py",
      "mimetype": "text/x-python",
      "name": "python",
      "nbconvert_exporter": "python",
      "pygments_lexer": "ipython3",
      "version": "3.8"
    }
  },
  "nbformat_minor": 5,
  "nbformat": 4,
  "cells": [
    {
      "id": "47ac77fa-3f90-4ca7-b7e9-91eb2acf6088",
      "cell_type": "markdown",
      "source": "# Data Science Tools and Ecosystem",
      "metadata": {}
    },
    {
      "id": "0073774f-0d4a-4e6e-9dec-60db2aec78dc",
      "cell_type": "markdown",
      "source": "In this notebook, Data Science tools and Ecosystem are summarized",
      "metadata": {}
    },
    {
      "id": "9e613146-63c1-4afa-9f0f-bf7562803303",
      "cell_type": "markdown",
      "source": "ex4  \nSome of the popular languages that Data Scientists use are:\n1. R\n2. Python\n3. SQL",
      "metadata": {}
    },
    {
      "id": "e70d1a08-328d-460f-98a6-f8c751719456",
      "cell_type": "markdown",
      "source": "ex5  \nSome of the commonly used libraries used by Data Scientists include:\n1. Numpy\n2. Scipy\n3. Scikit-Learn\n4. Pandas\n5. Matplotlib\n6. Seaborn",
      "metadata": {}
    },
    {
      "id": "f90b4080-4c93-4672-b112-5774ddaf39f6",
      "cell_type": "markdown",
      "source": "ex6    \nThis is a table of data science tools:\n\n| Column Number | DS Tool\n| --- | ---\n| 1 | Anaconda\n| 2 | R studio\n| 3 | Jupyter Notebooks\n| 4 | Spyder\n| 5 | Zeppelin",
      "metadata": {}
    },
    {
      "id": "91b859a2-264e-46a8-b150-d2a2f7878ede",
      "cell_type": "markdown",
      "source": "ex7  \n### Below are a few examples of evaluating arithmetic expression in Python",
      "metadata": {}
    },
    {
      "id": "e68552a5-5e5c-4127-8307-4c175865af53",
      "cell_type": "code",
      "source": "# ex8\n# this is a simple arithmetic expression to multiply and add integers\n\n3*4 + 5",
      "metadata": {
        "trusted": true
      },
      "outputs": [
        {
          "execution_count": 2,
          "output_type": "execute_result",
          "data": {
            "text/plain": "17"
          },
          "metadata": {}
        }
      ],
      "execution_count": 2
    },
    {
      "id": "516236ab-d022-4e6e-81f7-dfeb9023ad7a",
      "cell_type": "code",
      "source": "# ex9\n\n# this convert minutes to hours\n\ndef min_2_hour(min):\n    return round(min/60,2)\n\nmin_2_hour(200)",
      "metadata": {
        "trusted": true
      },
      "outputs": [
        {
          "execution_count": 5,
          "output_type": "execute_result",
          "data": {
            "text/plain": "3.33"
          },
          "metadata": {}
        }
      ],
      "execution_count": 5
    },
    {
      "id": "e87bc095-23a2-4916-90ff-8fa8f5504fe4",
      "cell_type": "markdown",
      "source": "ex10\n\n**Objectives**\n\n- Overview of Python\n- Install Python\n- Use Python for Data Science",
      "metadata": {}
    },
    {
      "id": "b4c46d71-4b0d-452b-bced-9c23930d8b97",
      "cell_type": "markdown",
      "source": "ex11\n\n## Author(s)\n\nmoduledk  \nansible",
      "metadata": {}
    },
    {
      "id": "93aba020-e2cd-4ba9-88c8-836fa56846c3",
      "cell_type": "code",
      "source": "",
      "metadata": {
        "trusted": true
      },
      "outputs": [],
      "execution_count": null
    }
  ]
}